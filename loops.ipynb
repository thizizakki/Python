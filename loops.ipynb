{
 "cells": [
  {
   "cell_type": "code",
   "execution_count": 1,
   "metadata": {},
   "outputs": [
    {
     "name": "stdout",
     "output_type": "stream",
     "text": [
      "Akshay\n",
      "Akshay\n",
      "Akshay\n",
      "Akshay\n",
      "Akshay\n",
      "Akshay\n",
      "Akshay\n",
      "Akshay\n",
      "Akshay\n",
      "Akshay\n"
     ]
    }
   ],
   "source": [
    "for i in range(10):\n",
    "    print(\"Akshay\")"
   ]
  },
  {
   "cell_type": "code",
   "execution_count": 2,
   "metadata": {},
   "outputs": [
    {
     "name": "stdout",
     "output_type": "stream",
     "text": [
      "0 Akshay\n",
      "1 Akshay\n",
      "2 Akshay\n",
      "3 Akshay\n",
      "4 Akshay\n",
      "5 Akshay\n",
      "6 Akshay\n",
      "7 Akshay\n",
      "8 Akshay\n",
      "9 Akshay\n"
     ]
    }
   ],
   "source": [
    "for i in range(10):\n",
    "    print(i,\"Akshay\")"
   ]
  },
  {
   "cell_type": "code",
   "execution_count": 3,
   "metadata": {},
   "outputs": [
    {
     "name": "stdout",
     "output_type": "stream",
     "text": [
      "2 Akshay\n",
      "3 Akshay\n",
      "4 Akshay\n",
      "5 Akshay\n",
      "6 Akshay\n",
      "7 Akshay\n",
      "8 Akshay\n",
      "9 Akshay\n"
     ]
    }
   ],
   "source": [
    "for i in range(2,10):\n",
    "    print(i,\"Akshay\") #Skips 0,1 till 9. "
   ]
  },
  {
   "cell_type": "code",
   "execution_count": 4,
   "metadata": {},
   "outputs": [
    {
     "name": "stdout",
     "output_type": "stream",
     "text": [
      "2 Akshay\n",
      "4 Akshay\n",
      "6 Akshay\n",
      "8 Akshay\n"
     ]
    }
   ],
   "source": [
    "for i in range(2,10,2): #starts, stop, step\n",
    "    print(i,\"Akshay\") #prints even values"
   ]
  },
  {
   "cell_type": "code",
   "execution_count": 5,
   "metadata": {},
   "outputs": [
    {
     "name": "stdout",
     "output_type": "stream",
     "text": [
      "I\n",
      "n\n",
      "d\n",
      "i\n",
      "a\n"
     ]
    }
   ],
   "source": [
    "a=\"India\"\n",
    "for k in a:\n",
    "    print(k)"
   ]
  },
  {
   "cell_type": "code",
   "execution_count": 6,
   "metadata": {},
   "outputs": [
    {
     "name": "stdout",
     "output_type": "stream",
     "text": [
      "0\n",
      "1\n",
      "2\n",
      "3\n",
      "4\n"
     ]
    }
   ],
   "source": [
    "a=\"India\"\n",
    "for k in range(len(a)):\n",
    "    print(k)"
   ]
  },
  {
   "cell_type": "code",
   "execution_count": 7,
   "metadata": {},
   "outputs": [
    {
     "name": "stdout",
     "output_type": "stream",
     "text": [
      "I\n",
      "n\n",
      "d\n",
      "i\n",
      "a\n"
     ]
    }
   ],
   "source": [
    "a=\"India\"\n",
    "for k in range(len(a)):\n",
    "    print(a[k])"
   ]
  },
  {
   "cell_type": "code",
   "execution_count": 8,
   "metadata": {},
   "outputs": [
    {
     "name": "stdout",
     "output_type": "stream",
     "text": [
      "India\n",
      "India\n",
      "India\n",
      "India\n",
      "India\n"
     ]
    }
   ],
   "source": [
    "a=\"India\"\n",
    "for k in range(len(a)):\n",
    "    print(a)"
   ]
  },
  {
   "cell_type": "code",
   "execution_count": 9,
   "metadata": {},
   "outputs": [
    {
     "name": "stdout",
     "output_type": "stream",
     "text": [
      "apple\n",
      "banana\n",
      "cherry\n"
     ]
    }
   ],
   "source": [
    "fruits=['apple','banana','cherry']\n",
    "for i in fruits:\n",
    "    print(i)"
   ]
  },
  {
   "cell_type": "code",
   "execution_count": 10,
   "metadata": {},
   "outputs": [
    {
     "name": "stdout",
     "output_type": "stream",
     "text": [
      "['apple', 'banana', 'cherry']\n",
      "['apple', 'banana', 'cherry']\n",
      "['apple', 'banana', 'cherry']\n"
     ]
    }
   ],
   "source": [
    "fruits=['apple','banana','cherry']\n",
    "for i in range(len(fruits)):\n",
    "    print(fruits)"
   ]
  },
  {
   "cell_type": "code",
   "execution_count": 11,
   "metadata": {},
   "outputs": [
    {
     "name": "stdout",
     "output_type": "stream",
     "text": [
      "apple\n",
      "banana\n",
      "cherry\n"
     ]
    }
   ],
   "source": [
    "fruits=['apple','banana','cherry']\n",
    "for i in range(len(fruits)):\n",
    "    print(fruits[i])"
   ]
  },
  {
   "cell_type": "code",
   "execution_count": 12,
   "metadata": {},
   "outputs": [
    {
     "name": "stdout",
     "output_type": "stream",
     "text": [
      "1\n",
      "2\n",
      "3\n",
      "4\n",
      "5\n",
      "6\n",
      "7\n",
      "8\n",
      "9\n",
      "10\n"
     ]
    }
   ],
   "source": [
    "for i in range(1,11):\n",
    "    print(i)"
   ]
  },
  {
   "cell_type": "code",
   "execution_count": 13,
   "metadata": {},
   "outputs": [
    {
     "name": "stdout",
     "output_type": "stream",
     "text": [
      "1\n",
      "4\n"
     ]
    }
   ],
   "source": [
    "for i in range(1,11,3):\n",
    "    if i==7:\n",
    "        break\n",
    "    print(i)"
   ]
  },
  {
   "cell_type": "code",
   "execution_count": 14,
   "metadata": {},
   "outputs": [
    {
     "name": "stdout",
     "output_type": "stream",
     "text": [
      "0\n",
      "1\n",
      "2\n",
      "3\n",
      "4\n",
      "5\n",
      "6\n",
      "7\n",
      "8\n",
      "9\n"
     ]
    }
   ],
   "source": [
    "for i in range(20):\n",
    "    if i==10:\n",
    "        break\n",
    "    print(i)"
   ]
  },
  {
   "cell_type": "code",
   "execution_count": 15,
   "metadata": {},
   "outputs": [
    {
     "name": "stdout",
     "output_type": "stream",
     "text": [
      "0\n",
      "1\n",
      "2\n",
      "3\n",
      "4\n",
      "5\n",
      "6\n",
      "7\n",
      "8\n",
      "9\n",
      "11\n",
      "12\n",
      "13\n",
      "14\n",
      "15\n",
      "16\n",
      "17\n",
      "18\n",
      "19\n"
     ]
    }
   ],
   "source": [
    "for i in range(20):\n",
    "    if i==10:\n",
    "        continue\n",
    "    print(i) #if the number is 10 then it skips 10 and prints all other values"
   ]
  },
  {
   "cell_type": "code",
   "execution_count": 16,
   "metadata": {},
   "outputs": [],
   "source": [
    "a=33\n",
    "b=200\n",
    "if b>a:\n",
    "    pass # it checks the condtion but no action can be taken"
   ]
  },
  {
   "cell_type": "code",
   "execution_count": 17,
   "metadata": {},
   "outputs": [
    {
     "name": "stdout",
     "output_type": "stream",
     "text": [
      "b is less than a\n"
     ]
    }
   ],
   "source": [
    "a=200\n",
    "b=33\n",
    "if b>a:\n",
    "    pass # it checks the condtion but no action can be taken\n",
    "else:\n",
    "    print(\"b is less than a\")"
   ]
  },
  {
   "cell_type": "code",
   "execution_count": 18,
   "metadata": {},
   "outputs": [
    {
     "name": "stdout",
     "output_type": "stream",
     "text": [
      "1\n",
      "4\n",
      "7\n",
      "10\n"
     ]
    }
   ],
   "source": [
    "for i in range(1,11,3):\n",
    "    if i==5:\n",
    "        break\n",
    "    print(i)"
   ]
  },
  {
   "cell_type": "code",
   "execution_count": 19,
   "metadata": {},
   "outputs": [
    {
     "name": "stdout",
     "output_type": "stream",
     "text": [
      "a\n",
      "p\n",
      "p\n"
     ]
    }
   ],
   "source": [
    "for i in ('apple'):\n",
    "    if i=='l':\n",
    "        break\n",
    "    print(i)"
   ]
  },
  {
   "cell_type": "code",
   "execution_count": 20,
   "metadata": {},
   "outputs": [
    {
     "name": "stdout",
     "output_type": "stream",
     "text": [
      "a\n",
      "p\n",
      "p\n",
      "e\n"
     ]
    }
   ],
   "source": [
    "for i in ('apple'):\n",
    "    if i=='l':\n",
    "        continue\n",
    "    print(i)"
   ]
  },
  {
   "cell_type": "code",
   "execution_count": 21,
   "metadata": {},
   "outputs": [
    {
     "name": "stdout",
     "output_type": "stream",
     "text": [
      "1\t2\t3\t4\t5\t6\t7\t8\t9\t10\t\n",
      "2\t4\t6\t8\t10\t12\t14\t16\t18\t20\t\n",
      "3\t6\t9\t12\t15\t18\t21\t24\t27\t30\t\n",
      "4\t8\t12\t16\t20\t24\t28\t32\t36\t40\t\n",
      "5\t10\t15\t20\t25\t30\t35\t40\t45\t50\t\n",
      "6\t12\t18\t24\t30\t36\t42\t48\t54\t60\t\n",
      "7\t14\t21\t28\t35\t42\t49\t56\t63\t70\t\n",
      "8\t16\t24\t32\t40\t48\t56\t64\t72\t80\t\n",
      "9\t18\t27\t36\t45\t54\t63\t72\t81\t90\t\n",
      "10\t20\t30\t40\t50\t60\t70\t80\t90\t100\t\n"
     ]
    }
   ],
   "source": [
    "#printing multiplication tables of 1 to 10 using nested for loop:\n",
    "for i in range(1,11):\n",
    "    for j in range(1,11):\n",
    "        print(i*j, end='\\t')\n",
    "    print()    \n"
   ]
  },
  {
   "cell_type": "code",
   "execution_count": 22,
   "metadata": {},
   "outputs": [
    {
     "name": "stdout",
     "output_type": "stream",
     "text": [
      "0\n",
      "1\n",
      "2\n",
      "3\n",
      "4\n",
      "5\n",
      "6\n",
      "7\n",
      "8\n",
      "9\n",
      "10\n"
     ]
    }
   ],
   "source": [
    "# While loop # When we have no idea how many times the to iterate then we use while loop\n",
    "i=0\n",
    "while(i<=10):\n",
    "    print(i)\n",
    "    i=i+1"
   ]
  },
  {
   "cell_type": "code",
   "execution_count": 23,
   "metadata": {},
   "outputs": [
    {
     "name": "stdout",
     "output_type": "stream",
     "text": [
      "* \n",
      "* * \n",
      "* * * \n",
      "* * * * \n",
      "* * * * * \n"
     ]
    }
   ],
   "source": [
    "for i in range(5):\n",
    "    for j in range(i+1):\n",
    "        print(\"*\",end=\" \")\n",
    "    print()"
   ]
  },
  {
   "cell_type": "code",
   "execution_count": 24,
   "metadata": {},
   "outputs": [
    {
     "name": "stdout",
     "output_type": "stream",
     "text": [
      "* * * * *  \n",
      "* * * *  \n",
      "* * *  \n",
      "* *  \n",
      "*  \n"
     ]
    }
   ],
   "source": [
    "for i in range(5):\n",
    "    for j in range(5-i):\n",
    "        print(\"*\", end=\" \")\n",
    "    print(\" \")    "
   ]
  },
  {
   "cell_type": "code",
   "execution_count": 25,
   "metadata": {},
   "outputs": [
    {
     "name": "stdout",
     "output_type": "stream",
     "text": [
      "    *  \n",
      "   * *  \n",
      "  * * *  \n",
      " * * * *  \n",
      "* * * * *  \n"
     ]
    }
   ],
   "source": [
    "for i in range(5):\n",
    "    print(\" \" * (5 - i - 1), end=\"\")\n",
    "    for j in range(i + 1):\n",
    "        print(\"* \", end=\"\")\n",
    "    print(' ')"
   ]
  },
  {
   "cell_type": "code",
   "execution_count": 26,
   "metadata": {},
   "outputs": [
    {
     "name": "stdout",
     "output_type": "stream",
     "text": [
      "* * * * * \n",
      " * * * * \n",
      "  * * * \n",
      "   * * \n",
      "    * \n"
     ]
    }
   ],
   "source": [
    "n=5\n",
    "for i in range(n, 0, -1):  # Reverse loop\n",
    "    print(\" \" * (n - i), end=\"\")\n",
    "    print(\"* \" * i)"
   ]
  },
  {
   "cell_type": "code",
   "execution_count": 27,
   "metadata": {},
   "outputs": [
    {
     "name": "stdout",
     "output_type": "stream",
     "text": [
      "* * *  \n",
      "* * *  \n",
      "* * *  \n"
     ]
    }
   ],
   "source": [
    "for i in range(3):\n",
    "    for j in range(3):\n",
    "        print(\"*\",end=\" \")\n",
    "    print(\" \")"
   ]
  },
  {
   "cell_type": "code",
   "execution_count": 28,
   "metadata": {},
   "outputs": [
    {
     "name": "stdout",
     "output_type": "stream",
     "text": [
      "* * * * *  \n",
      "*       *  \n",
      "* * * * *  \n"
     ]
    }
   ],
   "source": [
    "for i in range(3):\n",
    "    for j in range(5):\n",
    "        if(i==0 or i==2 or j==0 or j==4):\n",
    "            print(\"*\",end=' ')\n",
    "        else:\n",
    "            print(\" \",end=' ')    \n",
    "    print(\" \")"
   ]
  },
  {
   "cell_type": "code",
   "execution_count": 29,
   "metadata": {},
   "outputs": [
    {
     "name": "stdout",
     "output_type": "stream",
     "text": [
      "1\t2\t3\t4\t5\t6\t7\t8\t9\t10\t\n",
      "\n",
      "2\t4\t6\t8\t10\t12\t14\t16\t18\t20\t\n",
      "\n",
      "3\t6\t9\t12\t15\t18\t21\t24\t27\t30\t\n",
      "\n",
      "4\t8\t12\t16\t20\t24\t28\t32\t36\t40\t\n",
      "\n",
      "5\t10\t15\t20\t25\t30\t35\t40\t45\t50\t\n",
      "\n",
      "6\t12\t18\t24\t30\t36\t42\t48\t54\t60\t\n",
      "\n",
      "7\t14\t21\t28\t35\t42\t49\t56\t63\t70\t\n",
      "\n",
      "8\t16\t24\t32\t40\t48\t56\t64\t72\t80\t\n",
      "\n",
      "9\t18\t27\t36\t45\t54\t63\t72\t81\t90\t\n",
      "\n",
      "10\t20\t30\t40\t50\t60\t70\t80\t90\t100\t\n",
      "\n"
     ]
    }
   ],
   "source": [
    "# Nested while loops\n",
    "i=1\n",
    "while i<=10:\n",
    "    j=1\n",
    "    while j<=10:\n",
    "        print(i*j,end=\"\\t\")\n",
    "        j+=1\n",
    "    i+=1\n",
    "    print(\"\\n\")    "
   ]
  },
  {
   "cell_type": "code",
   "execution_count": 31,
   "metadata": {},
   "outputs": [
    {
     "name": "stdout",
     "output_type": "stream",
     "text": [
      "    *\n",
      "   ***\n",
      "  *****\n",
      " *******\n",
      "*********\n",
      " *******\n",
      "  *****\n",
      "   ***\n",
      "    *\n"
     ]
    }
   ],
   "source": [
    "for i in range(5):\n",
    "    print(\" \" * (5 - i - 1) + \"*\" * (2 * i + 1))\n",
    "\n",
    "for i in range(5-1,0,-1):\n",
    "    print(\" \" * (5 - i) + \"*\" * (2 * i -1))"
   ]
  },
  {
   "cell_type": "code",
   "execution_count": 32,
   "metadata": {},
   "outputs": [
    {
     "name": "stdout",
     "output_type": "stream",
     "text": [
      "    *\n",
      "   ***\n",
      "  *****\n",
      " *******\n",
      "*********\n",
      " *******\n",
      "  *****\n",
      "   ***\n",
      "    *\n"
     ]
    }
   ],
   "source": [
    "n = 5\n",
    "for i in range(2 * n - 1):\n",
    "    spaces = abs(n - i - 1)\n",
    "    stars = 2 * (n - spaces) - 1\n",
    "    print(\" \" * spaces + \"*\" * stars)"
   ]
  },
  {
   "cell_type": "code",
   "execution_count": 3,
   "metadata": {},
   "outputs": [
    {
     "name": "stdout",
     "output_type": "stream",
     "text": [
      "    * \n",
      "   * * \n",
      "  * * * \n",
      " * * * * \n",
      "* * * * * \n",
      "* * * * * \n",
      " * * * * \n",
      "  * * * \n",
      "   * * \n",
      "    * \n"
     ]
    }
   ],
   "source": [
    "for i in range(5):\n",
    "    for j in range(5-i-1):\n",
    "        print(\" \", end=\"\")\n",
    "    for k in range(i+1):\n",
    "        print(\"*\", end=\" \")\n",
    "    print()\n",
    "for i in range(5):\n",
    "    for j in range(i):\n",
    "        print(\" \",end=\"\")\n",
    "    for k in range(5-i):\n",
    "        print(\"*\", end=\" \")\n",
    "    print( )       \n"
   ]
  },
  {
   "cell_type": "code",
   "execution_count": null,
   "metadata": {},
   "outputs": [],
   "source": []
  }
 ],
 "metadata": {
  "kernelspec": {
   "display_name": "Python 3",
   "language": "python",
   "name": "python3"
  },
  "language_info": {
   "codemirror_mode": {
    "name": "ipython",
    "version": 3
   },
   "file_extension": ".py",
   "mimetype": "text/x-python",
   "name": "python",
   "nbconvert_exporter": "python",
   "pygments_lexer": "ipython3",
   "version": "3.12.1"
  }
 },
 "nbformat": 4,
 "nbformat_minor": 2
}
