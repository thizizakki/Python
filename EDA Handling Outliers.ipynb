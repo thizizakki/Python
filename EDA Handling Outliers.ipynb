{
 "cells": [
  {
   "cell_type": "code",
   "execution_count": 1,
   "id": "057192c0",
   "metadata": {},
   "outputs": [],
   "source": [
    "import pandas as pd\n",
    "import numpy as np\n",
    "import statistics\n",
    "import matplotlib.pyplot as plt"
   ]
  },
  {
   "cell_type": "code",
   "execution_count": 2,
   "id": "40ace022",
   "metadata": {},
   "outputs": [
    {
     "data": {
      "text/html": [
       "<div>\n",
       "<style scoped>\n",
       "    .dataframe tbody tr th:only-of-type {\n",
       "        vertical-align: middle;\n",
       "    }\n",
       "\n",
       "    .dataframe tbody tr th {\n",
       "        vertical-align: top;\n",
       "    }\n",
       "\n",
       "    .dataframe thead th {\n",
       "        text-align: right;\n",
       "    }\n",
       "</style>\n",
       "<table border=\"1\" class=\"dataframe\">\n",
       "  <thead>\n",
       "    <tr style=\"text-align: right;\">\n",
       "      <th></th>\n",
       "      <th>datesold</th>\n",
       "      <th>postcode</th>\n",
       "      <th>price</th>\n",
       "      <th>propertyType</th>\n",
       "      <th>bedrooms</th>\n",
       "    </tr>\n",
       "  </thead>\n",
       "  <tbody>\n",
       "    <tr>\n",
       "      <th>0</th>\n",
       "      <td>2007-02-07 00:00:00</td>\n",
       "      <td>2607</td>\n",
       "      <td>525000</td>\n",
       "      <td>house</td>\n",
       "      <td>4</td>\n",
       "    </tr>\n",
       "    <tr>\n",
       "      <th>1</th>\n",
       "      <td>2007-02-27 00:00:00</td>\n",
       "      <td>2906</td>\n",
       "      <td>290000</td>\n",
       "      <td>house</td>\n",
       "      <td>3</td>\n",
       "    </tr>\n",
       "    <tr>\n",
       "      <th>2</th>\n",
       "      <td>2007-03-07 00:00:00</td>\n",
       "      <td>2905</td>\n",
       "      <td>328000</td>\n",
       "      <td>house</td>\n",
       "      <td>3</td>\n",
       "    </tr>\n",
       "    <tr>\n",
       "      <th>3</th>\n",
       "      <td>2007-03-09 00:00:00</td>\n",
       "      <td>2905</td>\n",
       "      <td>380000</td>\n",
       "      <td>house</td>\n",
       "      <td>4</td>\n",
       "    </tr>\n",
       "    <tr>\n",
       "      <th>4</th>\n",
       "      <td>2007-03-21 00:00:00</td>\n",
       "      <td>2906</td>\n",
       "      <td>310000</td>\n",
       "      <td>house</td>\n",
       "      <td>3</td>\n",
       "    </tr>\n",
       "    <tr>\n",
       "      <th>...</th>\n",
       "      <td>...</td>\n",
       "      <td>...</td>\n",
       "      <td>...</td>\n",
       "      <td>...</td>\n",
       "      <td>...</td>\n",
       "    </tr>\n",
       "    <tr>\n",
       "      <th>29575</th>\n",
       "      <td>2019-07-25 00:00:00</td>\n",
       "      <td>2900</td>\n",
       "      <td>500000</td>\n",
       "      <td>unit</td>\n",
       "      <td>3</td>\n",
       "    </tr>\n",
       "    <tr>\n",
       "      <th>29576</th>\n",
       "      <td>2019-07-25 00:00:00</td>\n",
       "      <td>2612</td>\n",
       "      <td>560000</td>\n",
       "      <td>unit</td>\n",
       "      <td>2</td>\n",
       "    </tr>\n",
       "    <tr>\n",
       "      <th>29577</th>\n",
       "      <td>2019-07-26 00:00:00</td>\n",
       "      <td>2912</td>\n",
       "      <td>464950</td>\n",
       "      <td>unit</td>\n",
       "      <td>2</td>\n",
       "    </tr>\n",
       "    <tr>\n",
       "      <th>29578</th>\n",
       "      <td>2019-07-26 00:00:00</td>\n",
       "      <td>2601</td>\n",
       "      <td>589000</td>\n",
       "      <td>unit</td>\n",
       "      <td>2</td>\n",
       "    </tr>\n",
       "    <tr>\n",
       "      <th>29579</th>\n",
       "      <td>2019-07-26 00:00:00</td>\n",
       "      <td>2612</td>\n",
       "      <td>775000</td>\n",
       "      <td>unit</td>\n",
       "      <td>2</td>\n",
       "    </tr>\n",
       "  </tbody>\n",
       "</table>\n",
       "<p>29580 rows × 5 columns</p>\n",
       "</div>"
      ],
      "text/plain": [
       "                  datesold  postcode   price propertyType  bedrooms\n",
       "0      2007-02-07 00:00:00      2607  525000        house         4\n",
       "1      2007-02-27 00:00:00      2906  290000        house         3\n",
       "2      2007-03-07 00:00:00      2905  328000        house         3\n",
       "3      2007-03-09 00:00:00      2905  380000        house         4\n",
       "4      2007-03-21 00:00:00      2906  310000        house         3\n",
       "...                    ...       ...     ...          ...       ...\n",
       "29575  2019-07-25 00:00:00      2900  500000         unit         3\n",
       "29576  2019-07-25 00:00:00      2612  560000         unit         2\n",
       "29577  2019-07-26 00:00:00      2912  464950         unit         2\n",
       "29578  2019-07-26 00:00:00      2601  589000         unit         2\n",
       "29579  2019-07-26 00:00:00      2612  775000         unit         2\n",
       "\n",
       "[29580 rows x 5 columns]"
      ]
     },
     "execution_count": 2,
     "metadata": {},
     "output_type": "execute_result"
    }
   ],
   "source": [
    "data = pd.read_csv('C:/Users/aksha/Python/raw_sales.csv')\n",
    "data"
   ]
  },
  {
   "cell_type": "code",
   "execution_count": 3,
   "id": "64680991",
   "metadata": {},
   "outputs": [],
   "source": [
    "#Function to Detection Outlier on one-dimensional datasets.\n",
    "def find_anamolier(data):\n",
    "    #Define a list to accumulate anamolies\n",
    "    anomalier=[]\n",
    "\n",
    "    #Set upper and lower limit to 3 standard deviation\n",
    "    random_data_std = statistics.stdev(data)\n",
    "    random_data_mean = statistics.mean(data)\n",
    "    # 3- standard deviation\n",
    "\n",
    "    anamoly_cut_off = random_data_std * 3\n",
    "\n",
    "    lower_limit = random_data_mean - anamoly_cut_off\n",
    "    upper_limit = random_data_mean + anamoly_cut_off\n",
    "\n",
    "    #Generate outliers\n",
    "    for outliers in data:\n",
    "        if outliers > upper_limit or outliers < lower_limit:\n",
    "            anomalier.append(outliers)\n",
    "    return anomalier            "
   ]
  },
  {
   "cell_type": "code",
   "execution_count": 4,
   "id": "37666888",
   "metadata": {},
   "outputs": [
    {
     "data": {
      "text/plain": [
       "0        525000\n",
       "1        290000\n",
       "2        328000\n",
       "3        380000\n",
       "4        310000\n",
       "          ...  \n",
       "29575    500000\n",
       "29576    560000\n",
       "29577    464950\n",
       "29578    589000\n",
       "29579    775000\n",
       "Name: price, Length: 29580, dtype: int64"
      ]
     },
     "execution_count": 4,
     "metadata": {},
     "output_type": "execute_result"
    }
   ],
   "source": [
    "data.price"
   ]
  },
  {
   "cell_type": "code",
   "execution_count": 6,
   "id": "66e16857",
   "metadata": {},
   "outputs": [
    {
     "data": {
      "text/plain": [
       "461"
      ]
     },
     "execution_count": 6,
     "metadata": {},
     "output_type": "execute_result"
    }
   ],
   "source": [
    "list1 = find_anamolier(data['price'])\n",
    "len(list1)"
   ]
  },
  {
   "cell_type": "code",
   "execution_count": 7,
   "id": "cb152f75",
   "metadata": {},
   "outputs": [
    {
     "data": {
      "text/plain": [
       "29580"
      ]
     },
     "execution_count": 7,
     "metadata": {},
     "output_type": "execute_result"
    }
   ],
   "source": [
    "len(data)"
   ]
  },
  {
   "cell_type": "code",
   "execution_count": 8,
   "id": "beab2969",
   "metadata": {},
   "outputs": [
    {
     "data": {
      "text/plain": [
       "4.312009366902366"
      ]
     },
     "execution_count": 8,
     "metadata": {},
     "output_type": "execute_result"
    }
   ],
   "source": [
    "data.price.skew()"
   ]
  },
  {
   "cell_type": "code",
   "execution_count": 9,
   "id": "40ca2f6c",
   "metadata": {},
   "outputs": [
    {
     "data": {
      "text/plain": [
       "<Axes: xlabel='price', ylabel='Density'>"
      ]
     },
     "execution_count": 9,
     "metadata": {},
     "output_type": "execute_result"
    },
    {
     "data": {
      "image/png": "[encoded data removed]",
      "text/plain": [
       "<Figure size 640x480 with 1 Axes>"
      ]
     },
     "metadata": {},
     "output_type": "display_data"
    }
   ],
   "source": [
    "import seaborn as sns\n",
    "sns.kdeplot(data.price)"
   ]
  },
  {
   "cell_type": "code",
   "execution_count": null,
   "id": "38edafe3",
   "metadata": {},
   "outputs": [],
   "source": [
    "data['price_transformed'] = np.log(data.price)"
   ]
  },
  {
   "cell_type": "code",
   "execution_count": 11,
   "id": "82334ec8",
   "metadata": {},
   "outputs": [
    {
     "data": {
      "text/plain": [
       "0        13.171154\n",
       "1        12.577636\n",
       "2        12.700769\n",
       "3        12.847927\n",
       "4        12.644328\n",
       "           ...    \n",
       "29575    13.122363\n",
       "29576    13.235692\n",
       "29577    13.049685\n",
       "29578    13.286181\n",
       "29579    13.560618\n",
       "Name: price_transformed, Length: 29580, dtype: float64"
      ]
     },
     "execution_count": 11,
     "metadata": {},
     "output_type": "execute_result"
    }
   ],
   "source": [
    "data['price_transformed'] "
   ]
  },
  {
   "cell_type": "code",
   "execution_count": 12,
   "id": "b22acebb",
   "metadata": {},
   "outputs": [
    {
     "data": {
      "text/plain": [
       "0.4731646269984763"
      ]
     },
     "execution_count": 12,
     "metadata": {},
     "output_type": "execute_result"
    }
   ],
   "source": [
    "data.price_transformed.skew()"
   ]
  },
  {
   "cell_type": "code",
   "execution_count": 16,
   "id": "b386dc26",
   "metadata": {},
   "outputs": [
    {
     "data": {
      "text/plain": [
       "266"
      ]
     },
     "execution_count": 16,
     "metadata": {},
     "output_type": "execute_result"
    }
   ],
   "source": [
    "list_2 = find_anamolier(data.price_transformed)\n",
    "len(list_2)"
   ]
  },
  {
   "cell_type": "code",
   "execution_count": 17,
   "id": "6ebbb066",
   "metadata": {},
   "outputs": [
    {
     "data": {
      "text/plain": [
       "<Axes: xlabel='price_transformed', ylabel='Density'>"
      ]
     },
     "execution_count": 17,
     "metadata": {},
     "output_type": "execute_result"
    },
    {
     "data": {
      "image/png": "[encoded data removed]",
      "text/plain": [
       "<Figure size 640x480 with 1 Axes>"
      ]
     },
     "metadata": {},
     "output_type": "display_data"
    }
   ],
   "source": [
    "sns.kdeplot(data.price_transformed)"
   ]
  },
  {
   "cell_type": "code",
   "execution_count": 18,
   "id": "33f96190",
   "metadata": {},
   "outputs": [],
   "source": [
    "data['price_transformed_double'] = np.log(data.price_transformed)"
   ]
  },
  {
   "cell_type": "code",
   "execution_count": 19,
   "id": "7432cb88",
   "metadata": {},
   "outputs": [
    {
     "data": {
      "text/plain": [
       "0.33092530655758573"
      ]
     },
     "execution_count": 19,
     "metadata": {},
     "output_type": "execute_result"
    }
   ],
   "source": [
    "data['price_transformed_double'].skew()"
   ]
  },
  {
   "cell_type": "code",
   "execution_count": 20,
   "id": "b12faf51",
   "metadata": {},
   "outputs": [
    {
     "data": {
      "text/plain": [
       "251"
      ]
     },
     "execution_count": 20,
     "metadata": {},
     "output_type": "execute_result"
    }
   ],
   "source": [
    "list_3 = find_anamolier(data.price_transformed_double)\n",
    "len(list_3)"
   ]
  },
  {
   "cell_type": "code",
   "execution_count": 21,
   "id": "38e81c6a",
   "metadata": {},
   "outputs": [
    {
     "data": {
      "text/plain": [
       "<Axes: xlabel='price_transformed_double', ylabel='Density'>"
      ]
     },
     "execution_count": 21,
     "metadata": {},
     "output_type": "execute_result"
    },
    {
     "data": {
      "image/png": "[encoded data removed]",
      "text/plain": [
       "<Figure size 640x480 with 1 Axes>"
      ]
     },
     "metadata": {},
     "output_type": "display_data"
    }
   ],
   "source": [
    "sns.kdeplot(data.price_transformed_double)"
   ]
  },
  {
   "cell_type": "code",
   "execution_count": 22,
   "id": "f8c44cb7",
   "metadata": {},
   "outputs": [
    {
     "data": {
      "text/plain": [
       "<Axes: >"
      ]
     },
     "execution_count": 22,
     "metadata": {},
     "output_type": "execute_result"
    },
    {
     "data": {
      "image/png": "[encoded data removed]",
      "text/plain": [
       "<Figure size 640x480 with 1 Axes>"
      ]
     },
     "metadata": {},
     "output_type": "display_data"
    }
   ],
   "source": [
    "sns.boxplot(data=data)"
   ]
  },
  {
   "cell_type": "markdown",
   "id": "71cd4b93",
   "metadata": {},
   "source": [
    "The above code displays the plot below.\n",
    "\n",
    "- As you can see, it considers everything above 75  or below ~ 35 to be an outlier. The results are very close to method 1 above."
   ]
  },
  {
   "cell_type": "code",
   "execution_count": 24,
   "id": "99ba766b",
   "metadata": {},
   "outputs": [
    {
     "data": {
      "text/html": [
       "<div>\n",
       "<style scoped>\n",
       "    .dataframe tbody tr th:only-of-type {\n",
       "        vertical-align: middle;\n",
       "    }\n",
       "\n",
       "    .dataframe tbody tr th {\n",
       "        vertical-align: top;\n",
       "    }\n",
       "\n",
       "    .dataframe thead th {\n",
       "        text-align: right;\n",
       "    }\n",
       "</style>\n",
       "<table border=\"1\" class=\"dataframe\">\n",
       "  <thead>\n",
       "    <tr style=\"text-align: right;\">\n",
       "      <th></th>\n",
       "      <th>postcode</th>\n",
       "      <th>price</th>\n",
       "      <th>bedrooms</th>\n",
       "      <th>price_transformed</th>\n",
       "      <th>price_transformed_double</th>\n",
       "    </tr>\n",
       "  </thead>\n",
       "  <tbody>\n",
       "    <tr>\n",
       "      <th>count</th>\n",
       "      <td>29580.000000</td>\n",
       "      <td>2.958000e+04</td>\n",
       "      <td>29580.000000</td>\n",
       "      <td>29580.000000</td>\n",
       "      <td>29580.000000</td>\n",
       "    </tr>\n",
       "    <tr>\n",
       "      <th>mean</th>\n",
       "      <td>2730.249730</td>\n",
       "      <td>6.097363e+05</td>\n",
       "      <td>3.250169</td>\n",
       "      <td>13.244695</td>\n",
       "      <td>2.583199</td>\n",
       "    </tr>\n",
       "    <tr>\n",
       "      <th>std</th>\n",
       "      <td>146.717292</td>\n",
       "      <td>2.817079e+05</td>\n",
       "      <td>0.951275</td>\n",
       "      <td>0.375214</td>\n",
       "      <td>0.028183</td>\n",
       "    </tr>\n",
       "    <tr>\n",
       "      <th>min</th>\n",
       "      <td>2600.000000</td>\n",
       "      <td>5.650000e+04</td>\n",
       "      <td>0.000000</td>\n",
       "      <td>10.941996</td>\n",
       "      <td>2.392608</td>\n",
       "    </tr>\n",
       "    <tr>\n",
       "      <th>25%</th>\n",
       "      <td>2607.000000</td>\n",
       "      <td>4.400000e+05</td>\n",
       "      <td>3.000000</td>\n",
       "      <td>12.994530</td>\n",
       "      <td>2.564529</td>\n",
       "    </tr>\n",
       "    <tr>\n",
       "      <th>50%</th>\n",
       "      <td>2615.000000</td>\n",
       "      <td>5.500000e+05</td>\n",
       "      <td>3.000000</td>\n",
       "      <td>13.217674</td>\n",
       "      <td>2.581555</td>\n",
       "    </tr>\n",
       "    <tr>\n",
       "      <th>75%</th>\n",
       "      <td>2905.000000</td>\n",
       "      <td>7.050000e+05</td>\n",
       "      <td>4.000000</td>\n",
       "      <td>13.465953</td>\n",
       "      <td>2.600165</td>\n",
       "    </tr>\n",
       "    <tr>\n",
       "      <th>max</th>\n",
       "      <td>2914.000000</td>\n",
       "      <td>8.000000e+06</td>\n",
       "      <td>5.000000</td>\n",
       "      <td>15.894952</td>\n",
       "      <td>2.766002</td>\n",
       "    </tr>\n",
       "  </tbody>\n",
       "</table>\n",
       "</div>"
      ],
      "text/plain": [
       "           postcode         price      bedrooms  price_transformed  \\\n",
       "count  29580.000000  2.958000e+04  29580.000000       29580.000000   \n",
       "mean    2730.249730  6.097363e+05      3.250169          13.244695   \n",
       "std      146.717292  2.817079e+05      0.951275           0.375214   \n",
       "min     2600.000000  5.650000e+04      0.000000          10.941996   \n",
       "25%     2607.000000  4.400000e+05      3.000000          12.994530   \n",
       "50%     2615.000000  5.500000e+05      3.000000          13.217674   \n",
       "75%     2905.000000  7.050000e+05      4.000000          13.465953   \n",
       "max     2914.000000  8.000000e+06      5.000000          15.894952   \n",
       "\n",
       "       price_transformed_double  \n",
       "count              29580.000000  \n",
       "mean                   2.583199  \n",
       "std                    0.028183  \n",
       "min                    2.392608  \n",
       "25%                    2.564529  \n",
       "50%                    2.581555  \n",
       "75%                    2.600165  \n",
       "max                    2.766002  "
      ]
     },
     "execution_count": 24,
     "metadata": {},
     "output_type": "execute_result"
    }
   ],
   "source": [
    "data.describe()"
   ]
  },
  {
   "cell_type": "markdown",
   "id": "91e521ae",
   "metadata": {},
   "source": [
    "### Inter Quartile Range\n",
    "#### IQR = Q3-Q1"
   ]
  },
  {
   "cell_type": "code",
   "execution_count": null,
   "id": "e83bc130",
   "metadata": {},
   "outputs": [],
   "source": [
    "list1 = [43, 54, 56, 61, 62, 66, 68, 69, 69, 70, 71, 72, 77, 78, 79, 85, 87, 88, 89, 93, 95, 96, 98, 99, 99]"
   ]
  },
  {
   "cell_type": "code",
   "execution_count": 2,
   "id": "277e7d5d",
   "metadata": {},
   "outputs": [
    {
     "data": {
      "text/plain": [
       "25"
      ]
     },
     "execution_count": 2,
     "metadata": {},
     "output_type": "execute_result"
    }
   ],
   "source": [
    "len(list1)"
   ]
  },
  {
   "cell_type": "code",
   "execution_count": 3,
   "id": "9b4cff0f",
   "metadata": {},
   "outputs": [
    {
     "data": {
      "text/plain": [
       "99"
      ]
     },
     "execution_count": 3,
     "metadata": {},
     "output_type": "execute_result"
    }
   ],
   "source": [
    "max(list1)"
   ]
  },
  {
   "cell_type": "code",
   "execution_count": 4,
   "id": "aade5c85",
   "metadata": {},
   "outputs": [
    {
     "data": {
      "text/plain": [
       "43"
      ]
     },
     "execution_count": 4,
     "metadata": {},
     "output_type": "execute_result"
    }
   ],
   "source": [
    "min(list1)"
   ]
  },
  {
   "cell_type": "code",
   "execution_count": 5,
   "id": "4ed95c98",
   "metadata": {},
   "outputs": [],
   "source": [
    "import statistics"
   ]
  },
  {
   "cell_type": "code",
   "execution_count": 6,
   "id": "5674746e",
   "metadata": {},
   "outputs": [
    {
     "data": {
      "text/plain": [
       "76.96"
      ]
     },
     "execution_count": 6,
     "metadata": {},
     "output_type": "execute_result"
    }
   ],
   "source": [
    "statistics.mean(list1)"
   ]
  },
  {
   "cell_type": "code",
   "execution_count": 7,
   "id": "89e02147",
   "metadata": {},
   "outputs": [
    {
     "data": {
      "text/plain": [
       "[43,\n",
       " 54,\n",
       " 56,\n",
       " 61,\n",
       " 62,\n",
       " 66,\n",
       " 68,\n",
       " 69,\n",
       " 69,\n",
       " 70,\n",
       " 71,\n",
       " 72,\n",
       " 77,\n",
       " 78,\n",
       " 79,\n",
       " 85,\n",
       " 87,\n",
       " 88,\n",
       " 89,\n",
       " 93,\n",
       " 95,\n",
       " 96,\n",
       " 98,\n",
       " 99,\n",
       " 99]"
      ]
     },
     "execution_count": 7,
     "metadata": {},
     "output_type": "execute_result"
    }
   ],
   "source": [
    "sorted(list1)"
   ]
  },
  {
   "cell_type": "markdown",
   "id": "514e5733",
   "metadata": {},
   "source": [
    "To find the 90th perccentile for these ordered scores, start by multiplying 90 percent times the total number of scores, which gives \n",
    "\n",
    "90% * 25 =0.90 * 25 =22.5 (the index). Rounding up to the nearest whole number, you get 23"
   ]
  },
  {
   "cell_type": "code",
   "execution_count": 8,
   "id": "cbb7139f",
   "metadata": {},
   "outputs": [],
   "source": [
    "list2=sorted(list1)"
   ]
  },
  {
   "cell_type": "code",
   "execution_count": 9,
   "id": "bb22e08e",
   "metadata": {},
   "outputs": [
    {
     "data": {
      "text/plain": [
       "[43,\n",
       " 54,\n",
       " 56,\n",
       " 61,\n",
       " 62,\n",
       " 66,\n",
       " 68,\n",
       " 69,\n",
       " 69,\n",
       " 70,\n",
       " 71,\n",
       " 72,\n",
       " 77,\n",
       " 78,\n",
       " 79,\n",
       " 85,\n",
       " 87,\n",
       " 88,\n",
       " 89,\n",
       " 93,\n",
       " 95,\n",
       " 96,\n",
       " 98,\n",
       " 99,\n",
       " 99]"
      ]
     },
     "execution_count": 9,
     "metadata": {},
     "output_type": "execute_result"
    }
   ],
   "source": [
    "list2"
   ]
  },
  {
   "cell_type": "markdown",
   "id": "1397a689",
   "metadata": {},
   "source": [
    "Hence, 98 is the 90th percentile for this dataset\n",
    "\n",
    "Now say you want to find the 20th percentile. Start by taking 0.20 x 25 = 5 (the index); this is a whole number, which tells you the 20th percentile is the average of the 5th and 6th values in the ordered data set (62 and 66).\n",
    "\n",
    "so, 20th percentile is 62+66/2 = 64\n",
    "\n",
    "The median (the 50th percentile) for the test scores is the 13th score: 77."
   ]
  },
  {
   "cell_type": "markdown",
   "id": "c970ee18",
   "metadata": {},
   "source": []
  }
 ],
 "metadata": {
  "kernelspec": {
   "display_name": "Python 3",
   "language": "python",
   "name": "python3"
  },
  "language_info": {
   "codemirror_mode": {
    "name": "ipython",
    "version": 3
   },
   "file_extension": ".py",
   "mimetype": "text/x-python",
   "name": "python",
   "nbconvert_exporter": "python",
   "pygments_lexer": "ipython3",
   "version": "3.12.1"
  }
 },
 "nbformat": 4,
 "nbformat_minor": 5
}
