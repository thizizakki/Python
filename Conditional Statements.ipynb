{
 "cells": [
  {
   "cell_type": "code",
   "execution_count": 1,
   "metadata": {},
   "outputs": [
    {
     "name": "stdout",
     "output_type": "stream",
     "text": [
      "You can vote\n"
     ]
    }
   ],
   "source": [
    "age=int(input(\"Enter age\"))\n",
    "if(age>=18):\n",
    "    print(\"You can vote\")"
   ]
  },
  {
   "cell_type": "code",
   "execution_count": 2,
   "metadata": {},
   "outputs": [
    {
     "name": "stdout",
     "output_type": "stream",
     "text": [
      "You cannot vote\n"
     ]
    }
   ],
   "source": [
    "age=int(input(\"Enter age\"))\n",
    "if(age>=18):\n",
    "    print(\"You can vote\")\n",
    "else:\n",
    "    print(\"You cannot vote\")    "
   ]
  },
  {
   "cell_type": "code",
   "execution_count": null,
   "metadata": {},
   "outputs": [
    {
     "name": "stdout",
     "output_type": "stream",
     "text": [
      "Even number\n"
     ]
    }
   ],
   "source": [
    "number=int(input(\"Enter number\"))\n",
    "if(number==0):\n",
    "    print(\"Number is zero\")\n",
    "elif(number%2==0):\n",
    "    print(\"Even number\")\n",
    "elif(number>0):\n",
    "    print(\"Positive Number\")\n",
    "elif(number<0):\n",
    "    print(\"Negative Number\") \n",
    "else:\n",
    "    print(\"Odd numbers\")   "
   ]
  },
  {
   "cell_type": "code",
   "execution_count": 10,
   "metadata": {},
   "outputs": [
    {
     "name": "stdout",
     "output_type": "stream",
     "text": [
      "Neutral\n"
     ]
    }
   ],
   "source": [
    "pH=int(input(\"Enter pH level\"))\n",
    "if(pH>=1 and pH<=3):\n",
    "    print(\"Strong Acid\")\n",
    "elif(pH>=4 and pH<=6):\n",
    "    print(\"Weak Acid\")\n",
    "elif(pH==7):\n",
    "    print(\"Neutral\")\n",
    "elif(pH>=8 and pH<=11):\n",
    "    print(\"Weak Base\")\n",
    "elif(pH>=12 and pH<=14):\n",
    "    print(\"Strong Base\")\n",
    "else:\n",
    "    print(\"Not valid pH level\")"
   ]
  },
  {
   "cell_type": "code",
   "execution_count": null,
   "metadata": {},
   "outputs": [],
   "source": []
  },
  {
   "cell_type": "code",
   "execution_count": null,
   "metadata": {},
   "outputs": [],
   "source": []
  }
 ],
 "metadata": {
  "kernelspec": {
   "display_name": "Python 3",
   "language": "python",
   "name": "python3"
  },
  "language_info": {
   "codemirror_mode": {
    "name": "ipython",
    "version": 3
   },
   "file_extension": ".py",
   "mimetype": "text/x-python",
   "name": "python",
   "nbconvert_exporter": "python",
   "pygments_lexer": "ipython3",
   "version": "3.12.1"
  }
 },
 "nbformat": 4,
 "nbformat_minor": 2
}
