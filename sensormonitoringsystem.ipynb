{
 "cells": [
  {
   "cell_type": "markdown",
   "id": "64ef1b31",
   "metadata": {},
   "source": [
    "### This is an Environment Monitoring and Alerting System.\n",
    "### More Details will follow."
   ]
  },
  {
   "cell_type": "code",
   "execution_count": 2,
   "id": "b68db865-c74e-4fb1-aa50-3bcd3075969a",
   "metadata": {},
   "outputs": [
    {
     "name": "stdout",
     "output_type": "stream",
     "text": [
      " CO2 0.0,Temp 0.0,Humididty 0.0\n"
     ]
    }
   ],
   "source": [
    "#I am initializing my Environment parameters.\n",
    "co2 = 0.00\n",
    "temp = 0.00\n",
    "humdity = 0.00\n",
    "print(f' CO2 {co2},Temp {temp},Humididty {humdity}')"
   ]
  },
  {
   "cell_type": "code",
   "execution_count": null,
   "id": "4b0d7738-582e-4291-955d-a3a0a1515c17",
   "metadata": {},
   "outputs": [
    {
     "name": "stdout",
     "output_type": "stream",
     "text": [
      "User Entered values are: CO2 1500.0 PPM, Temp 25.6 Deg Cel, Humidity 78.0 %\n"
     ]
    }
   ],
   "source": [
    "#Ask the operator to enter the values manually\n",
    "co2=float(input(\"Please enter the CO2 value(ppm) > \"))\n",
    "temp=float(input(\"Please enter Temp value(Deg Celcius) > \"))\n",
    "humdity=float(input(\"Please enter the Humidity value(%) > \"))\n",
    "\n",
    "print(f'User Entered values are: CO2 {co2} PPM, Temp {temp} Deg Cel, Humidity {humdity}%')"
   ]
  },
  {
   "cell_type": "code",
   "execution_count": null,
   "id": "967b92c2",
   "metadata": {},
   "outputs": [],
   "source": []
  }
 ],
 "metadata": {
  "kernelspec": {
   "display_name": "Python 3",
   "language": "python",
   "name": "python3"
  },
  "language_info": {
   "codemirror_mode": {
    "name": "ipython",
    "version": 3
   },
   "file_extension": ".py",
   "mimetype": "text/x-python",
   "name": "python",
   "nbconvert_exporter": "python",
   "pygments_lexer": "ipython3",
   "version": "3.12.1"
  }
 },
 "nbformat": 4,
 "nbformat_minor": 5
}
